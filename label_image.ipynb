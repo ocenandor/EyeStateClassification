{
 "cells": [
  {
   "cell_type": "code",
   "execution_count": 7,
   "metadata": {},
   "outputs": [],
   "source": [
    "import os\n",
    "from pathlib import Path\n",
    "\n",
    "import matplotlib.pyplot as plt\n",
    "import pandas as pd\n",
    "from IPython.display import clear_output\n",
    "\n",
    "\n",
    "def label_images(folder_path, csv_file):\n",
    "    # Check if the CSV file exists, if not create a new DataFrame\n",
    "    if os.path.exists(csv_file):\n",
    "        df = pd.read_csv(csv_file)\n",
    "    else:\n",
    "        df = pd.DataFrame(columns=['Image_Path', 'Label'])\n",
    "\n",
    "    # Create a plot window\n",
    "    fig, ax = plt.subplots(figsize=(1,1))\n",
    "    names = set(map(lambda x: Path(x).name, df['Image_Path']))\n",
    "    # Iterate through each image in the folder\n",
    "    for filename in os.listdir(folder_path):\n",
    "        if filename.endswith(\".jpg\"):\n",
    "            image_path = os.path.join(folder_path, filename)\n",
    "            img_name = Path(image_path).name\n",
    "            clear_output(wait=True)\n",
    "            # Check if the image path already exists in the DataFrame\n",
    "            if image_path not in df['Image_Path'].values:\n",
    "                # Clear the previous image\n",
    "                # plt.clf()\n",
    "                # ax.clear()\n",
    "                # Load and display the image\n",
    "                img = plt.imread(image_path)\n",
    "                plt.imshow(img, cmap='gray')\n",
    "                plt.axis('off')\n",
    "                plt.show()\n",
    "                # plt.clf()\n",
    "                # plt.close()\n",
    "                # Prompt user for label\n",
    "                label = input(\"Enter label for image {} (0 or 1): \".format(filename))\n",
    "                if label == 'q':\n",
    "                    break\n",
    "                elif label == '':\n",
    "                    continue\n",
    "                # Append image path and label to the DataFrame\n",
    "                df = pd.concat([df, pd.DataFrame({'Image_Path': [image_path], 'Label': [int(label)]})], ignore_index=True)\n",
    "                \n",
    "\n",
    "    df.to_csv(csv_file, index=False)\n",
    "\n",
    "    print(\"Labels appended and saved to\", csv_file)"
   ]
  },
  {
   "cell_type": "code",
   "execution_count": 15,
   "metadata": {},
   "outputs": [
    {
     "data": {
      "image/png": "[encoded data removed]",
      "text/plain": [
       "<Figure size 640x480 with 1 Axes>"
      ]
     },
     "metadata": {},
     "output_type": "display_data"
    },
    {
     "name": "stdout",
     "output_type": "stream",
     "text": [
      "Labels appended and saved to ./image_labels.csv\n"
     ]
    }
   ],
   "source": [
    "# Example usage\n",
    "folder_path = './EyesDataset/'\n",
    "csv_file = './image_labels.csv'\n",
    "label_images(folder_path, csv_file)\n"
   ]
  },
  {
   "cell_type": "code",
   "execution_count": null,
   "metadata": {},
   "outputs": [],
   "source": []
  }
 ],
 "metadata": {
  "kernelspec": {
   "display_name": "hw3",
   "language": "python",
   "name": "python3"
  },
  "language_info": {
   "codemirror_mode": {
    "name": "ipython",
    "version": 3
   },
   "file_extension": ".py",
   "mimetype": "text/x-python",
   "name": "python",
   "nbconvert_exporter": "python",
   "pygments_lexer": "ipython3",
   "version": "3.9.18"
  }
 },
 "nbformat": 4,
 "nbformat_minor": 2
}
